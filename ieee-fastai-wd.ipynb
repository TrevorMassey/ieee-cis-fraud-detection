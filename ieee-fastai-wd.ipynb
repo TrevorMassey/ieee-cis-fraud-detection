{
 "cells": [
  {
   "cell_type": "markdown",
   "metadata": {},
   "source": [
    "This was the first Kaggle competition I tried and was learning about Neural Networks at the time, so that was the solution I wanted to try. I wouldn't suggest this solution for a production environment as Boosted Trees, or even Random Forests seemed to outperform it in tests. It seems it's pretty hard to beat boosted trees for tabular data ML tasks. That's probably especially true for this one because of the severely imbalanced data set."
   ]
  },
  {
   "cell_type": "code",
   "execution_count": 1,
   "metadata": {
    "_cell_guid": "b1076dfc-b9ad-4769-8c92-a6c4dae69d19",
    "_uuid": "8f2839f25d086af736a60e9eeb907d3b93b6e0e5"
   },
   "outputs": [
    {
     "name": "stdout",
     "output_type": "stream",
     "text": [
      "1.0.57\n",
      "Input Files:\n",
      "/kaggle/input/ieee-reduce-mem/test.pkl\n",
      "/kaggle/input/ieee-reduce-mem/train.pkl\n",
      "/kaggle/input/ieee-reduce-mem/custom.css\n",
      "/kaggle/input/ieee-reduce-mem/__notebook__.ipynb\n",
      "/kaggle/input/ieee-reduce-mem/__results__.html\n",
      "/kaggle/input/ieee-reduce-mem/__output__.json\n",
      "/kaggle/input/ieee-reduce-mem/__results___files/__results___28_2.png\n",
      "/kaggle/input/ieee-fastai-data/valid_idx.csv\n",
      "/kaggle/input/ieee-fastai-data/custom.css\n",
      "/kaggle/input/ieee-fastai-data/__notebook__.ipynb\n",
      "/kaggle/input/ieee-fastai-data/__results__.html\n",
      "/kaggle/input/ieee-fastai-data/__output__.json\n",
      "/kaggle/input/ieee-fastai-data/train_df.pkl\n",
      "/kaggle/input/ieee-fraud-detection/test_identity.csv\n",
      "/kaggle/input/ieee-fraud-detection/train_identity.csv\n",
      "/kaggle/input/ieee-fraud-detection/test_transaction.csv\n",
      "/kaggle/input/ieee-fraud-detection/sample_submission.csv\n",
      "/kaggle/input/ieee-fraud-detection/train_transaction.csv\n"
     ]
    }
   ],
   "source": [
    "import os\n",
    "import gc\n",
    "import random\n",
    "import pathlib\n",
    "import multiprocessing\n",
    "from pprint import pprint, pformat\n",
    "\n",
    "import numpy as np\n",
    "import pandas as pd\n",
    "import seaborn as sns\n",
    "from matplotlib import pyplot as plt\n",
    "\n",
    "from sklearn.model_selection import train_test_split\n",
    "from sklearn.metrics import roc_auc_score\n",
    "\n",
    "import fastai\n",
    "from fastai import metrics\n",
    "from fastai.tabular import FillMissing, Categorify, Normalize, DatasetType\n",
    "from fastai.tabular import TabularDataBunch, tabular_learner, TabularList, load_learner\n",
    "print(fastai.__version__)\n",
    "\n",
    "seed = 42\n",
    "random.seed(seed)\n",
    "np.random.seed(seed)\n",
    "os.environ['PYTHONHASHSEED'] = str(seed)\n",
    "\n",
    "# DIRS\n",
    "INPUT = pathlib.Path('/kaggle/input/')\n",
    "MODELS = pathlib.Path('.')\n",
    "NROWS = None\n",
    "\n",
    "print(\"Input Files:\")\n",
    "for dirname, _, filenames in os.walk(INPUT):\n",
    "    for filename in filenames:\n",
    "        print(os.path.join(dirname, filename))\n"
   ]
  },
  {
   "cell_type": "markdown",
   "metadata": {},
   "source": [
    "I wasnt sure about excluding the 'TransactionDT' column here but some other kagglers seemed to think that it was unevenly distributed and causing models to overfit. Once we have a pipeline maybe we can try adding it back in an see if it improves anything."
   ]
  },
  {
   "cell_type": "code",
   "execution_count": 2,
   "metadata": {
    "_cell_guid": "79c7e3d0-c299-4dcb-8224-4455121ee9b0",
    "_uuid": "d629ff2d2480ee46fbb7e2d37f6b5fab8052498a"
   },
   "outputs": [],
   "source": [
    "def get_cat_names(df):\n",
    "    \"\"\"Get a list of all category column names\"\"\"\n",
    "    print(f\"\\n==get_cat_names==\")\n",
    "    cards = [f\"card{i}\" for i in range(1, 7)]\n",
    "    matches = [f\"M{i}\" for i in range(1, 10)]\n",
    "    trx_cats = [\"ProductCD\", \"addr1\", \"addr2\", \"P_emaildomain\", \"R_emaildomain\", *cards, *matches]\n",
    "    ids = [f\"id_{i}\" for i in range(12, 39)]\n",
    "    id_cats = [\"DeviceType\", \"DeviceInfo\", *ids]\n",
    "    cat_names = trx_cats + id_cats\n",
    "    cat_names = [x for x in cat_names if x in df.columns]\n",
    "    cont_names = [x for x in df.columns if x not in cat_names]\n",
    "\n",
    "    excluded_columns = ['TransactionID', 'TransactionDT', 'isFraud']\n",
    "    for col in excluded_columns:\n",
    "        for col_list in [cat_names, cont_names]:\n",
    "            if col in col_list:\n",
    "                col_list.remove(col)\n",
    "    print(f\"cat_names: {len(cat_names)} {cat_names[:10]}...\")\n",
    "    print(f\"cont_names: {len(cont_names)} {cont_names[:10]}...\")\n",
    "    return cat_names, cont_names\n",
    "\n",
    "dup_idx_start = 4000000\n",
    "\n",
    "def oversample(df, num=4):\n",
    "    print(f\"\\n==oversample==\")\n",
    "    fraud_trx = df.loc[df['isFraud'] == 1]\n",
    "    print(f\"Original isFraud Count {len(fraud_trx)} rows\")\n",
    "    print(f\"Original Rows Count {len(df)} rows\")\n",
    "    print(f\"Original pct: {int(len(fraud_trx) / len(df) * 100)}%\")\n",
    "\n",
    "    fraud_trx = pd.concat([fraud_trx] * num, axis=0)\n",
    "    # We're giving them all IDs starting at 4, so they will be easy to ID later,\n",
    "    # Just make sure the model doesnt see that or it will totally overfit to that\n",
    "    new_idx = list(range(dup_idx_start, dup_idx_start + len(fraud_trx)))\n",
    "    fraud_trx['TransactionID'] = new_idx\n",
    "    print(f\"Adding New Rows: {len(fraud_trx)} rows\")\n",
    "\n",
    "    new_df = pd.concat([df, fraud_trx], axis=0, sort=False)\n",
    "    new_fraud = new_df.loc[new_df['isFraud'] == 1]\n",
    "    print(f\"New isFraud Count {len(new_fraud)} rows\")\n",
    "    print(f\"New Rows Count {len(new_df)} rows\")\n",
    "    print(f\"New pct: {int(len(new_fraud) / len(new_df) * 100)}%\")\n",
    "    return new_df\n",
    "\n",
    "def add_null_values(df):\n",
    "    \"\"\"\n",
    "    C_ columns have NaN values in the test set but not in the train set.\n",
    "    Fastai will not play nicely unless there are equivalent NaN values in the train set, and they\n",
    "    must be in the training portion, not the validation portion.\n",
    "    \"\"\"\n",
    "    print(f\"\\n==add_null_values==\")    \n",
    "    if NROWS:\n",
    "        for col in df.columns:\n",
    "            try:\n",
    "                df.at[0, col] = np.nan\n",
    "            except Exception:\n",
    "                pass\n",
    "        return df\n",
    "    null_columns = [col for col in df.columns if col.startswith('C')]\n",
    "    for col in null_columns:\n",
    "        df[col] = df[col].astype('float')\n",
    "        df.at[0, col] = np.nan\n",
    "        df[col] = pd.to_numeric(df[col], downcast='float')\n",
    "    print(df[null_columns].head())\n",
    "    return df\n"
   ]
  },
  {
   "cell_type": "markdown",
   "metadata": {},
   "source": [
    "Fastai could do a random split for us but it messes up with the NaN values sometimes so to make sure it works we give it our own valid_idx and make sure the 0th index isnt in it. (0th index because that's the row add_null_values() will use)\n",
    "\n",
    "Note:\n",
    "I had to be careful selecting a validation set that has enough isFraud trx in it. I undersampled in an earlier test and got 100% validation cause everything was non-fraudulent."
   ]
  },
  {
   "cell_type": "code",
   "execution_count": 3,
   "metadata": {},
   "outputs": [],
   "source": [
    "def get_valid_idx(train, pct=0.2):\n",
    "    print(f\"\\n==get_valid_idx==\")\n",
    "    isFraud = train[train['isFraud'] == 1]\n",
    "    noFraud = train[train['isFraud'] == 0]\n",
    "    print(f\"IsFraud: {len(isFraud)}\\tNoFraud: {len(noFraud)}\")\n",
    "    _, isFraud_idx = train_test_split(list(isFraud.index), test_size=pct)\n",
    "    _, noFraud_idx = train_test_split(list(noFraud.index), test_size=pct)\n",
    "    valid_idx = sorted(isFraud_idx + noFraud_idx)[1:]\n",
    "    print(f\"Getting {pct*100}% of indexes: {len(valid_idx)}/{len(train.index)}\")\n",
    "    print(f\"Valid Indexes: {valid_idx[:10]}\")\n",
    "    return valid_idx\n",
    "\n",
    "dep_var = 'isFraud'\n",
    "\n",
    "def train_pipeline(train):\n",
    "    print(f\"==train_pipeline==\")   \n",
    "    procs = [FillMissing, Categorify, Normalize]\n",
    "    cat_names, cont_names = get_cat_names(train)\n",
    "        \n",
    "    train = oversample(train, 4)\n",
    "    train = add_null_values(train)\n",
    "    valid_idx = get_valid_idx(train)\n",
    "\n",
    "    print(f\"\\n==making TabularList==\")\n",
    "    data = TabularList.from_df(train, cat_names=cat_names, cont_names=cont_names, procs=procs)\\\n",
    "        .split_by_idx(valid_idx)\\\n",
    "        .label_from_df(cols=dep_var)\\\n",
    "        .databunch()\n",
    "    return data"
   ]
  },
  {
   "cell_type": "code",
   "execution_count": 4,
   "metadata": {},
   "outputs": [],
   "source": [
    "def get_train_datablock():\n",
    "    print(f\"==train_pipeline==\")   \n",
    "    train = pd.read_pickle(INPUT / 'ieee-fastai-data' / 'train_df.pkl')\n",
    "    train = train.reset_index(drop=True)\n",
    "    valid_idx = list(pd.read_csv(INPUT / 'ieee-fastai-data' / 'valid_idx.csv')['index'])\n",
    "    display(train.head())\n",
    "    print(f\"valid_idx: {len(valid_idx)}, {valid_idx[:10]}...\")\n",
    "    print(f\"train.columns: {len(train.columns)}, {train.columns}...\")\n",
    "    procs = [FillMissing, Categorify, Normalize]\n",
    "    cat_names, cont_names = get_cat_names(train)\n",
    "    print(f\"\\n==making TabularList==\")\n",
    "    data = TabularList.from_df(train, cat_names=cat_names, cont_names=cont_names, procs=procs)\\\n",
    "        .split_by_idx(valid_idx)\\\n",
    "        .label_from_df(cols=dep_var)\\\n",
    "        .databunch()\n",
    "    return data"
   ]
  },
  {
   "cell_type": "code",
   "execution_count": 5,
   "metadata": {},
   "outputs": [
    {
     "name": "stdout",
     "output_type": "stream",
     "text": [
      "==train_pipeline==\n"
     ]
    },
    {
     "data": {
      "text/html": [
       "<div>\n",
       "<style scoped>\n",
       "    .dataframe tbody tr th:only-of-type {\n",
       "        vertical-align: middle;\n",
       "    }\n",
       "\n",
       "    .dataframe tbody tr th {\n",
       "        vertical-align: top;\n",
       "    }\n",
       "\n",
       "    .dataframe thead th {\n",
       "        text-align: right;\n",
       "    }\n",
       "</style>\n",
       "<table border=\"1\" class=\"dataframe\">\n",
       "  <thead>\n",
       "    <tr style=\"text-align: right;\">\n",
       "      <th></th>\n",
       "      <th>TransactionID</th>\n",
       "      <th>isFraud</th>\n",
       "      <th>TransactionDT</th>\n",
       "      <th>TransactionAmt</th>\n",
       "      <th>ProductCD</th>\n",
       "      <th>card1</th>\n",
       "      <th>card2</th>\n",
       "      <th>card3</th>\n",
       "      <th>card4</th>\n",
       "      <th>card5</th>\n",
       "      <th>...</th>\n",
       "      <th>id_31</th>\n",
       "      <th>id_32</th>\n",
       "      <th>id_33</th>\n",
       "      <th>id_34</th>\n",
       "      <th>id_35</th>\n",
       "      <th>id_36</th>\n",
       "      <th>id_37</th>\n",
       "      <th>id_38</th>\n",
       "      <th>DeviceType</th>\n",
       "      <th>DeviceInfo</th>\n",
       "    </tr>\n",
       "  </thead>\n",
       "  <tbody>\n",
       "    <tr>\n",
       "      <td>0</td>\n",
       "      <td>2987000</td>\n",
       "      <td>0</td>\n",
       "      <td>86400</td>\n",
       "      <td>68.5</td>\n",
       "      <td>W</td>\n",
       "      <td>13926</td>\n",
       "      <td>NaN</td>\n",
       "      <td>150.0</td>\n",
       "      <td>discover</td>\n",
       "      <td>142.0</td>\n",
       "      <td>...</td>\n",
       "      <td>samsung browser 6.2</td>\n",
       "      <td>32.0</td>\n",
       "      <td>2220x1080</td>\n",
       "      <td>match_status:2</td>\n",
       "      <td>T</td>\n",
       "      <td>F</td>\n",
       "      <td>T</td>\n",
       "      <td>T</td>\n",
       "      <td>mobile</td>\n",
       "      <td>SAMSUNG SM-G892A Build/NRD90M</td>\n",
       "    </tr>\n",
       "    <tr>\n",
       "      <td>1</td>\n",
       "      <td>2987001</td>\n",
       "      <td>0</td>\n",
       "      <td>86401</td>\n",
       "      <td>29.0</td>\n",
       "      <td>W</td>\n",
       "      <td>2755</td>\n",
       "      <td>404.0</td>\n",
       "      <td>150.0</td>\n",
       "      <td>mastercard</td>\n",
       "      <td>102.0</td>\n",
       "      <td>...</td>\n",
       "      <td>mobile safari 11.0</td>\n",
       "      <td>32.0</td>\n",
       "      <td>1334x750</td>\n",
       "      <td>match_status:1</td>\n",
       "      <td>T</td>\n",
       "      <td>F</td>\n",
       "      <td>F</td>\n",
       "      <td>T</td>\n",
       "      <td>mobile</td>\n",
       "      <td>iOS Device</td>\n",
       "    </tr>\n",
       "    <tr>\n",
       "      <td>2</td>\n",
       "      <td>2987002</td>\n",
       "      <td>0</td>\n",
       "      <td>86469</td>\n",
       "      <td>59.0</td>\n",
       "      <td>W</td>\n",
       "      <td>4663</td>\n",
       "      <td>490.0</td>\n",
       "      <td>150.0</td>\n",
       "      <td>visa</td>\n",
       "      <td>166.0</td>\n",
       "      <td>...</td>\n",
       "      <td>chrome 62.0</td>\n",
       "      <td>NaN</td>\n",
       "      <td>NaN</td>\n",
       "      <td>NaN</td>\n",
       "      <td>F</td>\n",
       "      <td>F</td>\n",
       "      <td>T</td>\n",
       "      <td>T</td>\n",
       "      <td>desktop</td>\n",
       "      <td>Windows</td>\n",
       "    </tr>\n",
       "    <tr>\n",
       "      <td>3</td>\n",
       "      <td>2987003</td>\n",
       "      <td>0</td>\n",
       "      <td>86499</td>\n",
       "      <td>50.0</td>\n",
       "      <td>W</td>\n",
       "      <td>18132</td>\n",
       "      <td>567.0</td>\n",
       "      <td>150.0</td>\n",
       "      <td>mastercard</td>\n",
       "      <td>117.0</td>\n",
       "      <td>...</td>\n",
       "      <td>chrome 62.0</td>\n",
       "      <td>NaN</td>\n",
       "      <td>NaN</td>\n",
       "      <td>NaN</td>\n",
       "      <td>F</td>\n",
       "      <td>F</td>\n",
       "      <td>T</td>\n",
       "      <td>T</td>\n",
       "      <td>desktop</td>\n",
       "      <td>NaN</td>\n",
       "    </tr>\n",
       "    <tr>\n",
       "      <td>4</td>\n",
       "      <td>2987004</td>\n",
       "      <td>0</td>\n",
       "      <td>86506</td>\n",
       "      <td>50.0</td>\n",
       "      <td>H</td>\n",
       "      <td>4497</td>\n",
       "      <td>514.0</td>\n",
       "      <td>150.0</td>\n",
       "      <td>mastercard</td>\n",
       "      <td>102.0</td>\n",
       "      <td>...</td>\n",
       "      <td>chrome 62.0</td>\n",
       "      <td>24.0</td>\n",
       "      <td>1280x800</td>\n",
       "      <td>match_status:2</td>\n",
       "      <td>T</td>\n",
       "      <td>F</td>\n",
       "      <td>T</td>\n",
       "      <td>T</td>\n",
       "      <td>desktop</td>\n",
       "      <td>MacOS</td>\n",
       "    </tr>\n",
       "  </tbody>\n",
       "</table>\n",
       "<p>5 rows × 434 columns</p>\n",
       "</div>"
      ],
      "text/plain": [
       "   TransactionID  isFraud  TransactionDT  TransactionAmt ProductCD  card1  \\\n",
       "0        2987000        0          86400            68.5         W  13926   \n",
       "1        2987001        0          86401            29.0         W   2755   \n",
       "2        2987002        0          86469            59.0         W   4663   \n",
       "3        2987003        0          86499            50.0         W  18132   \n",
       "4        2987004        0          86506            50.0         H   4497   \n",
       "\n",
       "   card2  card3       card4  card5  ...                id_31  id_32  \\\n",
       "0    NaN  150.0    discover  142.0  ...  samsung browser 6.2   32.0   \n",
       "1  404.0  150.0  mastercard  102.0  ...   mobile safari 11.0   32.0   \n",
       "2  490.0  150.0        visa  166.0  ...          chrome 62.0    NaN   \n",
       "3  567.0  150.0  mastercard  117.0  ...          chrome 62.0    NaN   \n",
       "4  514.0  150.0  mastercard  102.0  ...          chrome 62.0   24.0   \n",
       "\n",
       "       id_33           id_34  id_35 id_36 id_37  id_38  DeviceType  \\\n",
       "0  2220x1080  match_status:2      T     F     T      T      mobile   \n",
       "1   1334x750  match_status:1      T     F     F      T      mobile   \n",
       "2        NaN             NaN      F     F     T      T     desktop   \n",
       "3        NaN             NaN      F     F     T      T     desktop   \n",
       "4   1280x800  match_status:2      T     F     T      T     desktop   \n",
       "\n",
       "                      DeviceInfo  \n",
       "0  SAMSUNG SM-G892A Build/NRD90M  \n",
       "1                     iOS Device  \n",
       "2                        Windows  \n",
       "3                            NaN  \n",
       "4                          MacOS  \n",
       "\n",
       "[5 rows x 434 columns]"
      ]
     },
     "metadata": {},
     "output_type": "display_data"
    },
    {
     "name": "stdout",
     "output_type": "stream",
     "text": [
      "valid_idx: 88581, [2, 6, 7, 24, 31, 36, 39, 43, 52, 53]...\n",
      "train.columns: 434, Index(['TransactionID', 'isFraud', 'TransactionDT', 'TransactionAmt',\n",
      "       'ProductCD', 'card1', 'card2', 'card3', 'card4', 'card5',\n",
      "       ...\n",
      "       'id_31', 'id_32', 'id_33', 'id_34', 'id_35', 'id_36', 'id_37', 'id_38',\n",
      "       'DeviceType', 'DeviceInfo'],\n",
      "      dtype='object', length=434)...\n",
      "\n",
      "==get_cat_names==\n",
      "cat_names: 49 ['ProductCD', 'addr1', 'addr2', 'P_emaildomain', 'R_emaildomain', 'card1', 'card2', 'card3', 'card4', 'card5']...\n",
      "cont_names: 382 ['TransactionAmt', 'dist1', 'dist2', 'C1', 'C2', 'C3', 'C4', 'C5', 'C6', 'C7']...\n",
      "\n",
      "==making TabularList==\n"
     ]
    }
   ],
   "source": [
    "train = get_train_datablock()"
   ]
  },
  {
   "cell_type": "code",
   "execution_count": 6,
   "metadata": {},
   "outputs": [],
   "source": [
    "learn = tabular_learner(train, layers=[400, 100], emb_drop=0.3, ps=[0.3, 0.3], metrics=[metrics.AUROC()])"
   ]
  },
  {
   "cell_type": "code",
   "execution_count": 7,
   "metadata": {},
   "outputs": [
    {
     "data": {
      "text/plain": [
       "22"
      ]
     },
     "execution_count": 7,
     "metadata": {},
     "output_type": "execute_result"
    }
   ],
   "source": [
    "gc.collect()"
   ]
  },
  {
   "cell_type": "code",
   "execution_count": 8,
   "metadata": {},
   "outputs": [
    {
     "data": {
      "text/html": [],
      "text/plain": [
       "<IPython.core.display.HTML object>"
      ]
     },
     "metadata": {},
     "output_type": "display_data"
    },
    {
     "name": "stdout",
     "output_type": "stream",
     "text": [
      "LR Finder is complete, type {learner_name}.recorder.plot() to see the graph.\n"
     ]
    },
    {
     "data": {
      "image/png": "[encoded data removed]",
      "text/plain": [
       "<Figure size 432x288 with 1 Axes>"
      ]
     },
     "metadata": {
      "needs_background": "light"
     },
     "output_type": "display_data"
    }
   ],
   "source": [
    "learn.lr_find()\n",
    "learn.recorder.plot()"
   ]
  },
  {
   "cell_type": "code",
   "execution_count": 9,
   "metadata": {},
   "outputs": [
    {
     "data": {
      "text/html": [
       "\n",
       "    <div>\n",
       "        <style>\n",
       "            /* Turns off some styling */\n",
       "            progress {\n",
       "                /* gets rid of default border in Firefox and Opera. */\n",
       "                border: none;\n",
       "                /* Needs to be in here for Safari polyfill so background images work as expected. */\n",
       "                background-size: auto;\n",
       "            }\n",
       "            .progress-bar-interrupted, .progress-bar-interrupted::-webkit-progress-bar {\n",
       "                background: #F44336;\n",
       "            }\n",
       "        </style>\n",
       "      <progress value='2' class='' max='3', style='width:300px; height:20px; vertical-align: middle;'></progress>\n",
       "      66.67% [2/3 29:42<14:51]\n",
       "    </div>\n",
       "    \n",
       "<table border=\"1\" class=\"dataframe\">\n",
       "  <thead>\n",
       "    <tr style=\"text-align: left;\">\n",
       "      <th>epoch</th>\n",
       "      <th>train_loss</th>\n",
       "      <th>valid_loss</th>\n",
       "      <th>auroc</th>\n",
       "      <th>time</th>\n",
       "    </tr>\n",
       "  </thead>\n",
       "  <tbody>\n",
       "    <tr>\n",
       "      <td>0</td>\n",
       "      <td>0.218241</td>\n",
       "      <td>0.178480</td>\n",
       "      <td>0.917751</td>\n",
       "      <td>14:48</td>\n",
       "    </tr>\n",
       "    <tr>\n",
       "      <td>1</td>\n",
       "      <td>0.179146</td>\n",
       "      <td>0.764045</td>\n",
       "      <td>0.936935</td>\n",
       "      <td>14:53</td>\n",
       "    </tr>\n",
       "  </tbody>\n",
       "</table><p>\n",
       "\n",
       "    <div>\n",
       "        <style>\n",
       "            /* Turns off some styling */\n",
       "            progress {\n",
       "                /* gets rid of default border in Firefox and Opera. */\n",
       "                border: none;\n",
       "                /* Needs to be in here for Safari polyfill so background images work as expected. */\n",
       "                background-size: auto;\n",
       "            }\n",
       "            .progress-bar-interrupted, .progress-bar-interrupted::-webkit-progress-bar {\n",
       "                background: #F44336;\n",
       "            }\n",
       "        </style>\n",
       "      <progress value='7140' class='' max='8940', style='width:300px; height:20px; vertical-align: middle;'></progress>\n",
       "      79.87% [7140/8940 11:33<02:54 0.1629]\n",
       "    </div>\n",
       "    "
      ],
      "text/plain": [
       "<IPython.core.display.HTML object>"
      ]
     },
     "metadata": {},
     "output_type": "display_data"
    }
   ],
   "source": [
    "i = 1\n",
    "learn.fit_one_cycle(3, 1e-3)\n",
    "model_name = f\"400-100-model_{i}\"\n",
    "learn.export(model_name + '.pkl')"
   ]
  },
  {
   "cell_type": "code",
   "execution_count": 10,
   "metadata": {},
   "outputs": [
    {
     "data": {
      "text/html": [],
      "text/plain": [
       "<IPython.core.display.HTML object>"
      ]
     },
     "metadata": {},
     "output_type": "display_data"
    },
    {
     "name": "stdout",
     "output_type": "stream",
     "text": [
      "LR Finder is complete, type {learner_name}.recorder.plot() to see the graph.\n"
     ]
    },
    {
     "data": {
      "image/png": "[encoded data removed]",
      "text/plain": [
       "<Figure size 432x288 with 1 Axes>"
      ]
     },
     "metadata": {
      "needs_background": "light"
     },
     "output_type": "display_data"
    }
   ],
   "source": [
    "learn.lr_find()\n",
    "learn.recorder.plot()"
   ]
  },
  {
   "cell_type": "code",
   "execution_count": 11,
   "metadata": {},
   "outputs": [
    {
     "data": {
      "text/plain": [
       "7597"
      ]
     },
     "execution_count": 11,
     "metadata": {},
     "output_type": "execute_result"
    }
   ],
   "source": [
    "gc.collect()"
   ]
  },
  {
   "cell_type": "code",
   "execution_count": 12,
   "metadata": {},
   "outputs": [
    {
     "data": {
      "text/plain": [
       "[8.900774, tensor(0.9372)]"
      ]
     },
     "execution_count": 12,
     "metadata": {},
     "output_type": "execute_result"
    }
   ],
   "source": [
    "learn.validate()"
   ]
  },
  {
   "cell_type": "markdown",
   "metadata": {},
   "source": [
    "The model is trained and in the next kernel we test it and open it up a bit."
   ]
  }
 ],
 "metadata": {
  "kernelspec": {
   "display_name": "Python 3",
   "language": "python",
   "name": "python3"
  },
  "language_info": {
   "codemirror_mode": {
    "name": "ipython",
    "version": 3
   },
   "file_extension": ".py",
   "mimetype": "text/x-python",
   "name": "python",
   "nbconvert_exporter": "python",
   "pygments_lexer": "ipython3",
   "version": "3.6.6"
  }
 },
 "nbformat": 4,
 "nbformat_minor": 1
}
