{
 "cells": [
  {
   "cell_type": "code",
   "execution_count": 1,
   "metadata": {
    "_cell_guid": "b1076dfc-b9ad-4769-8c92-a6c4dae69d19",
    "_uuid": "8f2839f25d086af736a60e9eeb907d3b93b6e0e5"
   },
   "outputs": [
    {
     "name": "stdout",
     "output_type": "stream",
     "text": [
      "1.0.57\n"
     ]
    }
   ],
   "source": [
    "# https://www.kaggle.com/alexeykupershtokh/concat-dataframes\n",
    "# Creating Concatinated Dataset with both train and test\n",
    "import os\n",
    "import gc\n",
    "import random\n",
    "from pathlib import Path\n",
    "import multiprocessing\n",
    "from pprint import pprint, pformat\n",
    "\n",
    "import numpy as np\n",
    "import pandas as pd\n",
    "import seaborn as sns\n",
    "from matplotlib import pyplot as plt\n",
    "\n",
    "import fastai\n",
    "from fastai import metrics\n",
    "from fastai.tabular import FillMissing, Categorify, Normalize, DatasetType\n",
    "from fastai.tabular import TabularDataBunch, tabular_learner, TabularList, load_learner\n",
    "print(fastai.__version__)\n",
    "\n",
    "seed = 42\n",
    "random.seed(seed)\n",
    "np.random.seed(seed)\n",
    "os.environ['PYTHONHASHSEED'] = str(seed)\n",
    "\n",
    "INPUT = Path('/kaggle/input/ieee-fraud-detection')"
   ]
  },
  {
   "cell_type": "code",
   "execution_count": 2,
   "metadata": {},
   "outputs": [],
   "source": [
    "def basic_mem_reduction(df):\n",
    "    \"\"\"Casts each column to the smallest dtype it can without throwing an error.\"\"\"\n",
    "    start_mem = df.memory_usage(deep=True).sum() / 1024 ** 2\n",
    "    df = (df.pipe(all_float_to_int)\n",
    "          .pipe(downcast_all, \"float\")\n",
    "          .pipe(downcast_all, \"integer\")\n",
    "          .pipe(downcast_all, target_type=\"unsigned\", inital_type=\"integer\"))\n",
    "    end_mem = df.memory_usage(deep=True).sum() / 1024 ** 2\n",
    "    diff = end_mem - start_mem\n",
    "    pct = int(diff/start_mem * 100)\n",
    "    print(f\"Saved {diff}Mb of Memory: {pct}%\")\n",
    "    return df\n",
    "\n",
    "\n",
    "def float_to_int(series):\n",
    "    try:\n",
    "        int_ser = series.astype(int)\n",
    "        if (series == int_ser).all():\n",
    "            return int_ser\n",
    "        else:\n",
    "            return series\n",
    "    except (ValueError, AssertionError):\n",
    "        return series\n",
    "\n",
    "\n",
    "def all_float_to_int(df):\n",
    "    func = float_to_int\n",
    "    condition = lambda x: list(x.select_dtypes(include=[\"float\"]).columns)\n",
    "    return multi_assign(df, func, condition)\n",
    "\n",
    "\n",
    "def multi_assign(df, func, condition):\n",
    "    \"\"\"\n",
    "    Applies function <func> to every column in <df> which satisfies <condition>\n",
    "    \"\"\"\n",
    "    return df.assign(**{col: func(df[col]) for col in condition(df)})\n",
    "\n",
    "\n",
    "def downcast_all(df, target_type, inital_type=None):\n",
    "    \"\"\"\n",
    "    :param df: target dataframe\n",
    "    :param target_type: 'float', 'integer' or 'unisgned'\n",
    "    :param inital_type: same as target_type\n",
    "    :return: downcasted dataframe\n",
    "    \"\"\"\n",
    "    if inital_type is None:\n",
    "        inital_type = target_type\n",
    "    transform = lambda x: pd.to_numeric(x, downcast=target_type)\n",
    "    condition = lambda x: list(x.select_dtypes(include=[inital_type]).columns)\n",
    "    return multi_assign(df, transform, condition)\n"
   ]
  },
  {
   "cell_type": "code",
   "execution_count": 3,
   "metadata": {},
   "outputs": [
    {
     "name": "stdout",
     "output_type": "stream",
     "text": [
      "Saved -13.617579460144043Mb of Memory: -8%\n",
      "Saved -875.7493019104004Mb of Memory: -41%\n",
      "Saved -13.39797306060791Mb of Memory: -8%\n",
      "Saved -778.4645090103149Mb of Memory: -42%\n"
     ]
    },
    {
     "data": {
      "text/plain": [
       "0"
      ]
     },
     "execution_count": 3,
     "metadata": {},
     "output_type": "execute_result"
    }
   ],
   "source": [
    "nrows = None\n",
    "\n",
    "train_identity = pd.read_csv(INPUT / 'train_identity.csv', nrows=nrows)\n",
    "train_identity = basic_mem_reduction(train_identity)\n",
    "train_transaction = pd.read_csv(INPUT / 'train_transaction.csv', nrows=nrows)\n",
    "train_transaction = basic_mem_reduction(train_transaction)\n",
    "train = pd.merge(train_transaction, train_identity, on='TransactionID', how='left', left_index=True, right_index=True)\n",
    "\n",
    "del train_identity, train_transaction\n",
    "gc.collect()\n",
    "\n",
    "test_identity = pd.read_csv(INPUT / 'test_identity.csv', nrows=nrows)\n",
    "test_identity = basic_mem_reduction(test_identity)\n",
    "test_transaction = pd.read_csv(INPUT / 'test_transaction.csv', nrows=nrows)\n",
    "test_transaction = basic_mem_reduction(test_transaction)\n",
    "test = pd.merge(test_transaction, test_identity, on='TransactionID', how='left', left_index=True, right_index=True)\n",
    "\n",
    "del test_identity, test_transaction\n",
    "gc.collect()"
   ]
  },
  {
   "cell_type": "code",
   "execution_count": 4,
   "metadata": {},
   "outputs": [],
   "source": [
    "train.to_pickle('train.pkl')\n",
    "test.to_pickle('test.pkl')"
   ]
  },
  {
   "cell_type": "markdown",
   "metadata": {},
   "source": [
    "# TEST WITH FASTAI\n",
    "I had issues with the cleaned data not working in fastai properly because of weird things with indexes and whatnot. If the lr_finder works properly, that's a passing test."
   ]
  },
  {
   "cell_type": "code",
   "execution_count": 5,
   "metadata": {},
   "outputs": [
    {
     "name": "stdout",
     "output_type": "stream",
     "text": [
      "Getting 20.0% of indexes: 118108/590540\n"
     ]
    }
   ],
   "source": [
    "pct = 0.2\n",
    "indxs = list(train.index)\n",
    "wanted_num = int(len(indxs) * pct)\n",
    "valid_idx = [random.randrange(len(indxs)) for x in range(wanted_num)]\n",
    "print(f\"Getting {pct*100}% of indexes: {wanted_num}/{len(indxs)}\")"
   ]
  },
  {
   "cell_type": "code",
   "execution_count": 6,
   "metadata": {},
   "outputs": [],
   "source": [
    "def get_cat_names(df):\n",
    "    cards = [f\"card{i}\" for i in range(1, 7)]\n",
    "    matches = [f\"M{i}\" for i in range(1, 10)]\n",
    "    trx_cats = [\"ProductCD\", \"addr1\", \"addr2\", \"P_emaildomain\", \"R_emaildomain\", *cards, *matches]\n",
    "    ids = [f\"id_{i}\" for i in range(12, 39)]\n",
    "    id_cats = [\"DeviceType\", \"DeviceInfo\", *ids]\n",
    "    cat_names = trx_cats + id_cats\n",
    "    cat_names = [x for x in cat_names if x in df.columns]\n",
    "    cont_names = [x for x in df.columns if x not in cat_names]\n",
    "    return cat_names, cont_names"
   ]
  },
  {
   "cell_type": "code",
   "execution_count": 7,
   "metadata": {},
   "outputs": [],
   "source": [
    "cat_names, cont_names = get_cat_names(train)"
   ]
  },
  {
   "cell_type": "code",
   "execution_count": 8,
   "metadata": {},
   "outputs": [],
   "source": [
    "for col in train.columns:\n",
    "    type_ = str(train[col].dtype)\n",
    "    if col in cat_names:\n",
    "        train[col] = train[col].astype('category')\n",
    "        continue\n",
    "    if 'float' not in type_ and 'int' not in type_:\n",
    "        continue\n",
    "train['isFraud'] = train['isFraud'].astype('category')"
   ]
  },
  {
   "cell_type": "code",
   "execution_count": 9,
   "metadata": {},
   "outputs": [],
   "source": [
    "cat_names, cont_names = get_cat_names(train)\n",
    "procs = [FillMissing, Categorify, Normalize]\n",
    "data = TabularDataBunch.from_df('/models', train, 'isFraud', valid_idx=valid_idx, procs=procs, cat_names=cat_names)"
   ]
  },
  {
   "cell_type": "code",
   "execution_count": 10,
   "metadata": {},
   "outputs": [],
   "source": [
    "learner = tabular_learner(data, layers=[400, 100], emb_drop=0.2, ps=[0.2, 0.2], metrics=[metrics.AUROC()])"
   ]
  },
  {
   "cell_type": "code",
   "execution_count": 11,
   "metadata": {},
   "outputs": [
    {
     "data": {
      "text/html": [],
      "text/plain": [
       "<IPython.core.display.HTML object>"
      ]
     },
     "metadata": {},
     "output_type": "display_data"
    },
    {
     "name": "stdout",
     "output_type": "stream",
     "text": [
      "LR Finder is complete, type {learner_name}.recorder.plot() to see the graph.\n"
     ]
    },
    {
     "data": {
      "image/png": "[encoded data removed]",
      "text/plain": [
       "<Figure size 432x288 with 1 Axes>"
      ]
     },
     "metadata": {
      "needs_background": "light"
     },
     "output_type": "display_data"
    }
   ],
   "source": [
    "learner.lr_find()\n",
    "learner.recorder.plot()"
   ]
  },
  {
   "cell_type": "code",
   "execution_count": 12,
   "metadata": {},
   "outputs": [
    {
     "data": {
      "text/plain": [
       "[0.6946504, tensor(0.3292)]"
      ]
     },
     "execution_count": 12,
     "metadata": {},
     "output_type": "execute_result"
    }
   ],
   "source": [
    "learner.validate()"
   ]
  }
 ],
 "metadata": {
  "kernelspec": {
   "display_name": "Python 3",
   "language": "python",
   "name": "python3"
  },
  "language_info": {
   "codemirror_mode": {
    "name": "ipython",
    "version": 3
   },
   "file_extension": ".py",
   "mimetype": "text/x-python",
   "name": "python",
   "nbconvert_exporter": "python",
   "pygments_lexer": "ipython3",
   "version": "3.6.6"
  }
 },
 "nbformat": 4,
 "nbformat_minor": 1
}
